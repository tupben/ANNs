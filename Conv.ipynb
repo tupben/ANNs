{
 "cells": [
  {
   "cell_type": "code",
   "execution_count": 1390,
   "metadata": {
    "collapsed": false,
    "scrolled": false
   },
   "outputs": [],
   "source": [
    "%matplotlib inline\n",
    "import numpy as np\n",
    "import matplotlib\n",
    "import matplotlib.pyplot as plt\n",
    "import matplotlib.image as mpimg\n",
    "from pylab import *\n",
    "from scipy import ndimage\n",
    "from numpy.linalg import inv\n",
    "import random\n",
    "np.random.seed()\n",
    "\n",
    "def showit(data,name):\n",
    "    data = data[::-1,::]\n",
    "    colors = [(0,0,i/1000.,.9) for i in xrange(1,1000)]\n",
    "    new_map = matplotlib.colors.LinearSegmentedColormap.from_list('new_map', colors, N=256)\n",
    "    pcolor(data, cmap=new_map)\n",
    "    colorbar()\n",
    "    print name\n",
    "    show()\n",
    "\n",
    "def showimg(data,name):\n",
    "    print name\n",
    "    testplot = plt.imshow(data)\n",
    "    colorbar()\n",
    "    show()\n",
    "\n",
    "# make grayscale from rgb\n",
    "def make_grayscale(input):\n",
    "    size = len(input)\n",
    "    output = np.zeros((size,size,3))\n",
    "    for x in range(len(a)):\n",
    "        for y in range(len(a)):\n",
    "            r = input[x][y][0]\n",
    "            g = input[x][y][1]\n",
    "            b = input[x][y][2]\n",
    "            output[x][y] = (max(r, g, b) + min(r, g, b)) / 2.\n",
    "    return output\n",
    "\n",
    "# print special x [:,:,2] format\n",
    "def myprint(x,title=False):\n",
    "    if title:\n",
    "        print title,'\\n'\n",
    "    for a in range(x.shape[2]):\n",
    "        print title,\"[:,:,%d]\" % a\n",
    "        print x[:,:,a],'\\n'\n",
    "\n",
    "\n",
    "# zero pad an input\n",
    "def zero_pad(x,p=1):\n",
    "    xy = len(x)\n",
    "    dim = len(x.shape)    \n",
    "    output = np.zeros((xy+2*p,xy+2*p,x.shape[2]))\n",
    "    output[p:p+xy,p:p+xy,:] += x[:,:,:]\n",
    "    return output            \n",
    "        \n",
    "\n",
    "# convolution function\n",
    "def convolve(x, k, bias=[0], p=1, s=1):\n",
    "    if len(k.shape)==3:\n",
    "        k = np.array([k])\n",
    "    # hyperparameters\n",
    "    f = len(k[0])\n",
    "    n = (len(x) - f + 2*p)/s + 1\n",
    "    o = np.zeros((n,n,len(k)))  # turn 1 into parameter\n",
    "    t = np.arange(0,n)*s\n",
    "    \n",
    "    # pad\n",
    "    x = zero_pad(x)\n",
    "\n",
    "    # convolve\n",
    "    for d in range(len(k)):\n",
    "        for a in t:\n",
    "            for b in t:\n",
    "                o[a,b,d] = np.sum( x[a:a+f,b:b+f,:] * k[d]) + bias[d]\n",
    "    return np.maximum(o,0)"
   ]
  },
  {
   "cell_type": "code",
   "execution_count": 1391,
   "metadata": {
    "collapsed": false
   },
   "outputs": [
    {
     "data": {
      "image/png": "[encoded data removed]",
      "text/plain": [
       "<matplotlib.figure.Figure at 0x112452350>"
      ]
     },
     "metadata": {},
     "output_type": "display_data"
    },
    {
     "name": "stdout",
     "output_type": "stream",
     "text": [
      "kernel[0,:,:,2]\n"
     ]
    },
    {
     "data": {
      "image/png": "[encoded data removed]",
      "text/plain": [
       "<matplotlib.figure.Figure at 0x113526850>"
      ]
     },
     "metadata": {},
     "output_type": "display_data"
    },
    {
     "name": "stdout",
     "output_type": "stream",
     "text": [
      "kernel[1,:,:,2]\n"
     ]
    },
    {
     "data": {
      "image/png": "[encoded data removed]",
      "text/plain": [
       "<matplotlib.figure.Figure at 0x112899850>"
      ]
     },
     "metadata": {},
     "output_type": "display_data"
    },
    {
     "name": "stdout",
     "output_type": "stream",
     "text": [
      "l1[:,:,0]\n"
     ]
    },
    {
     "data": {
      "image/png": "[encoded data removed]",
      "text/plain": [
       "<matplotlib.figure.Figure at 0x1120462d0>"
      ]
     },
     "metadata": {},
     "output_type": "display_data"
    },
    {
     "name": "stdout",
     "output_type": "stream",
     "text": [
      "l1[:,:,1]\n"
     ]
    },
    {
     "data": {
      "image/png": "[encoded data removed]",
      "text/plain": [
       "<matplotlib.figure.Figure at 0x111283250>"
      ]
     },
     "metadata": {},
     "output_type": "display_data"
    }
   ],
   "source": [
    "l0 = np.round(np.random.random(((6,6,3)))*(.7))\n",
    "l0[:,:,0:2]=0\n",
    "b0 = [0,-1]\n",
    "kernel = np.zeros((2,3,3,3))\n",
    "kernel[0,:,:,2]=-1\n",
    "kernel[0,1,1,2]=1\n",
    "kernel[1,0,:,2]=[1,-1,0]\n",
    "kernel[1,1,:,2]=[-1,1,0]\n",
    "\n",
    "l1 = convolve(l0,kernel,b0)\n",
    "\n",
    "imgplot = plt.imshow(l0)\n",
    "show()\n",
    "\n",
    "showit(kernel[0,:,:,2],'kernel[0,:,:,2]')\n",
    "showit(kernel[1,:,:,2],'kernel[1,:,:,2]')\n",
    "\n",
    "showit(l1[:,:,0],'l1[:,:,0]')\n",
    "showit(l1[:,:,1],'l1[:,:,1]')"
   ]
  },
  {
   "cell_type": "code",
   "execution_count": 1340,
   "metadata": {
    "collapsed": false
   },
   "outputs": [
    {
     "name": "stdout",
     "output_type": "stream",
     "text": [
      "l0\n",
      "[[ 0.  0.  0.  0.  0.  1.]\n",
      " [ 0.  0.  0.  0.  0.  0.]\n",
      " [ 0.  0.  1.  0.  0.  0.]\n",
      " [ 0.  0.  1.  0.  0.  0.]\n",
      " [ 0.  0.  0.  0.  1.  1.]\n",
      " [ 0.  0.  0.  0.  0.  0.]]\n",
      "kernel\n",
      "[[-1 -1 -1]\n",
      " [-1  1 -1]\n",
      " [-1 -1 -1]]\n",
      "l1\n",
      "[[ 0.  0.  0.  0.  0.  1.]\n",
      " [ 0.  0.  0.  0.  0.  0.]\n",
      " [ 0.  0.  0.  0.  0.  0.]\n",
      " [ 0.  0.  0.  0.  0.  0.]\n",
      " [ 0.  0.  0.  0.  0.  0.]\n",
      " [ 0.  0.  0.  0.  0.  0.]] \n",
      "\n",
      "l0\n"
     ]
    },
    {
     "data": {
      "image/png": "[encoded data removed]",
      "text/plain": [
       "<matplotlib.figure.Figure at 0x111f44690>"
      ]
     },
     "metadata": {},
     "output_type": "display_data"
    },
    {
     "name": "stdout",
     "output_type": "stream",
     "text": [
      "kernel\n"
     ]
    },
    {
     "data": {
      "image/png": "[encoded data removed]",
      "text/plain": [
       "<matplotlib.figure.Figure at 0x112832250>"
      ]
     },
     "metadata": {},
     "output_type": "display_data"
    },
    {
     "name": "stdout",
     "output_type": "stream",
     "text": [
      "l1\n"
     ]
    },
    {
     "data": {
      "image/png": "[encoded data removed]",
      "text/plain": [
       "<matplotlib.figure.Figure at 0x10db76e50>"
      ]
     },
     "metadata": {},
     "output_type": "display_data"
    }
   ],
   "source": [
    "# zero pad an input\n",
    "def zero_pad_2d(x,p=1):\n",
    "    xy = len(x)\n",
    "    dim = len(x.shape)\n",
    "    output = np.zeros((xy+2*p,xy+2*p))\n",
    "    output[p:p+xy,p:p+xy] += x[:,:]\n",
    "    return output    \n",
    "\n",
    "# Convolve 2d\n",
    "def convolve_2d(x, k, b0=0,p=1,s=1):\n",
    "    # hyperparameters\n",
    "    n = (len(x) - len(k) + 2*p)/s + 1\n",
    "    t = np.arange(0,n)*s\n",
    "    o = np.zeros((n,n))\n",
    "    \n",
    "    # pad   \n",
    "    x = zero_pad_2d(x,p)\n",
    "\n",
    "    # convolve\n",
    "    for a in t:\n",
    "        for b in t:\n",
    "            o[a,b] = np.sum( x[a:a+len(k),b:b+len(k)] * k) + b0\n",
    "    return np.maximum(o,0)\n",
    "\n",
    "\n",
    "l0 = np.round(np.random.random(((6,6)))*(.6))\n",
    "kernel = np.array([[-1,-1,-1],[-1,1,-1],[-1,-1,-1]])\n",
    "l1 = convolve_2d(l0,kernel)\n",
    "\n",
    "print 'l0\\n',l0\n",
    "print 'kernel\\n',kernel\n",
    "print 'l1\\n',l1,'\\n'\n",
    "showit(l0,'l0')\n",
    "showit(kernel.T[::-1],'kernel')\n",
    "showit(l1,'l1')"
   ]
  },
  {
   "cell_type": "code",
   "execution_count": 1146,
   "metadata": {
    "collapsed": false
   },
   "outputs": [
    {
     "name": "stdout",
     "output_type": "stream",
     "text": [
      "(10, 10, 3)\n",
      "(3, 3, 3)\n"
     ]
    },
    {
     "data": {
      "image/png": "[encoded data removed]",
      "text/plain": [
       "<matplotlib.figure.Figure at 0x112692590>"
      ]
     },
     "metadata": {},
     "output_type": "display_data"
    },
    {
     "data": {
      "image/png": "[encoded data removed]",
      "text/plain": [
       "<matplotlib.figure.Figure at 0x1119abb50>"
      ]
     },
     "metadata": {},
     "output_type": "display_data"
    }
   ],
   "source": [
    "# Create random n,n,3 array in rgb form\n",
    "\n",
    "a = np.random.random((10,10,3))**.9\n",
    "#a = np.zeros((8,8,3))\n",
    "b = np.array([[[1]*3]*3]*3)\n",
    "print a.shape\n",
    "print b.shape\n",
    "\n",
    "# show 3d rgb image\n",
    "imgplot = plt.imshow(a)\n",
    "show()\n",
    "\n",
    "gray = make_grayscale(a)\n",
    "imgplot = plt.imshow(gray)\n",
    "show()\n",
    "            "
   ]
  }
 ],
 "metadata": {
  "kernelspec": {
   "display_name": "Python 2",
   "language": "python",
   "name": "python2"
  },
  "language_info": {
   "codemirror_mode": {
    "name": "ipython",
    "version": 2
   },
   "file_extension": ".py",
   "mimetype": "text/x-python",
   "name": "python",
   "nbconvert_exporter": "python",
   "pygments_lexer": "ipython2",
   "version": "2.7.13"
  }
 },
 "nbformat": 4,
 "nbformat_minor": 2
}
